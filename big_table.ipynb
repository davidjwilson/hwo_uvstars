{
 "cells": [
  {
   "cell_type": "code",
   "execution_count": 1,
   "id": "a909747b-c42b-4075-b320-3966788bc30d",
   "metadata": {
    "tags": []
   },
   "outputs": [],
   "source": [
    "import numpy as np\n",
    "import matplotlib.pyplot as plt\n",
    "import astropy.io.fits as fits\n",
    "import os\n",
    "import glob\n",
    "from astropy.table import Table\n",
    "from astropy.io import ascii\n",
    "from astropy.convolution import convolve, Box1DKernel\n",
    "from scipy.interpolate import interp1d\n",
    "\n",
    "import astropy.units as u\n",
    "from astropy import time, coordinates as coord\n",
    "import astropy.constants as const\n",
    "from astropy.modeling import models, fitting\n",
    "from astropy.coordinates import SkyCoord\n",
    "from matplotlib.gridspec import GridSpec\n",
    "\n",
    "\n",
    "#matplotlib set up\n",
    "%matplotlib inline\n",
    "from matplotlib import rcParams\n",
    "rcParams[\"figure.figsize\"] = (14, 5)\n",
    "rcParams[\"font.size\"] = 20"
   ]
  },
  {
   "cell_type": "markdown",
   "id": "bc6d8ef9-216a-4769-bf9d-d1b1b54159a3",
   "metadata": {},
   "source": [
    "I made a big table on MAST with all the IUE and HST data, did it work?"
   ]
  },
  {
   "cell_type": "code",
   "execution_count": 6,
   "id": "c5dd4277-b7a6-4e5e-9679-c0bbac9d4846",
   "metadata": {
    "tags": []
   },
   "outputs": [
    {
     "data": {
      "text/html": [
       "<div><i>Table length=1509</i>\n",
       "<table id=\"table140091778069888\" class=\"table-striped table-bordered table-condensed\">\n",
       "<thead><tr><th>TIC</th><th>RA</th><th>DEC</th><th>calib_level</th><th>obs_collection</th><th>obs_id</th><th>target_name</th><th>s_ra</th><th>s_dec</th><th>t_min</th><th>t_exptime</th><th>wavelength_region</th><th>filters</th><th>target_classification</th><th>t_obs_release</th><th>instrument_name</th><th>project</th><th>distance</th></tr></thead>\n",
       "<thead><tr><th>str14</th><th>float64</th><th>float64</th><th>int64</th><th>str3</th><th>str9</th><th>str18</th><th>float64</th><th>float64</th><th>float64</th><th>float64</th><th>str7</th><th>str9</th><th>str32</th><th>float64</th><th>str13</th><th>str3</th><th>float64</th></tr></thead>\n",
       "<tr><td>TIC_381949122</td><td>76.37773198</td><td>-57.47270469</td><td>2</td><td>IUE</td><td>swp16862</td><td>HD 33262</td><td>76.3779942465</td><td>-57.4733210496</td><td>45089.51337</td><td>1859.864</td><td>UV</td><td>LOW DISP</td><td>--</td><td>nan</td><td>SWP</td><td>--</td><td>0.0</td></tr>\n",
       "<tr><td>TIC_381949122</td><td>76.37773198</td><td>-57.47270469</td><td>2</td><td>IUE</td><td>swp16717</td><td>HD 33262</td><td>76.3774951703</td><td>-57.4733186916</td><td>45067.55881</td><td>1499.825</td><td>UV</td><td>LOW DISP</td><td>--</td><td>nan</td><td>SWP</td><td>--</td><td>0.0</td></tr>\n",
       "<tr><td>TIC_381949122</td><td>76.37773198</td><td>-57.47270469</td><td>2</td><td>IUE</td><td>swp17006</td><td>HD 33262</td><td>76.3779942465</td><td>-57.4733210496</td><td>45110.43361</td><td>1859.864</td><td>UV</td><td>LOW DISP</td><td>--</td><td>nan</td><td>SWP</td><td>--</td><td>0.0</td></tr>\n",
       "<tr><td>TIC_381949122</td><td>76.37773198</td><td>-57.47270469</td><td>2</td><td>IUE</td><td>swp16923</td><td>HD 33262</td><td>76.3779942465</td><td>-57.4733210496</td><td>45097.42542</td><td>1019.774</td><td>UV</td><td>LOW DISP</td><td>--</td><td>nan</td><td>SWP</td><td>--</td><td>0.0</td></tr>\n",
       "<tr><td>TIC_30293512</td><td>198.0132679</td><td>-37.8030222</td><td>2</td><td>IUE</td><td>swp13987</td><td>HD 114613</td><td>198.0157392152</td><td>-37.8033803536</td><td>44742.23433</td><td>2099.48</td><td>UV</td><td>LOW DISP</td><td>--</td><td>nan</td><td>SWP</td><td>--</td><td>0.0</td></tr>\n",
       "<tr><td>TIC_381949122</td><td>76.37773198</td><td>-57.47270469</td><td>2</td><td>IUE</td><td>swp16734</td><td>HD 33262</td><td>76.3774951703</td><td>-57.4733186916</td><td>45069.33122</td><td>1859.864</td><td>UV</td><td>LOW DISP</td><td>--</td><td>nan</td><td>SWP</td><td>--</td><td>0.0</td></tr>\n",
       "<tr><td>...</td><td>...</td><td>...</td><td>...</td><td>...</td><td>...</td><td>...</td><td>...</td><td>...</td><td>...</td><td>...</td><td>...</td><td>...</td><td>...</td><td>...</td><td>...</td><td>...</td><td>...</td></tr>\n",
       "<tr><td>TIC_422478973</td><td>199.60130828</td><td>-18.31119382</td><td>3</td><td>HST</td><td>o6ic02070</td><td>HD115617</td><td>199.6007723699</td><td>-18.31165532888</td><td>52127.2209466782</td><td>1.0</td><td>Optical</td><td>G430L</td><td>STAR;G V-IV</td><td>52127.65092588</td><td>STIS/CCD</td><td>HST</td><td>0.430788289240312</td></tr>\n",
       "<tr><td>TIC_422478973</td><td>199.60130828</td><td>-18.31119382</td><td>3</td><td>HST</td><td>o6ic020d0</td><td>HD115617</td><td>199.600772335</td><td>-18.31165537213</td><td>52127.2744074074</td><td>0.6</td><td>Optical</td><td>G750L</td><td>STAR;G V-IV</td><td>52127.67672444</td><td>STIS/CCD</td><td>HST</td><td>0.633862439315792</td></tr>\n",
       "<tr><td>TIC_343813545</td><td>49.84040134</td><td>3.37019865</td><td>3</td><td>HST</td><td>le4p02010</td><td>-KAP01-CET</td><td>49.84195199141</td><td>3.370735809136</td><td>59251.294128044</td><td>5045.6</td><td>UV</td><td>G130M</td><td>EXT-STAR;G V-IV</td><td>59432.5470601</td><td>COS/FUV</td><td>HST</td><td>1.41320644262458</td></tr>\n",
       "<tr><td>TIC_422478973</td><td>199.60130828</td><td>-18.31119382</td><td>3</td><td>HST</td><td>o6ic020a0</td><td>HD115617</td><td>199.6007723439</td><td>-18.31165536109</td><td>52127.2611896644</td><td>5.0</td><td>Optical</td><td>G430M</td><td>STAR;G V-IV</td><td>52127.67254617</td><td>STIS/CCD</td><td>HST</td><td>0.430896193827602</td></tr>\n",
       "<tr><td>TIC_343813545</td><td>49.84040134</td><td>3.37019865</td><td>3</td><td>HST</td><td>o5bn03040</td><td>HD20630</td><td>49.84049477633</td><td>3.37021491367</td><td>51806.326155706</td><td>378.0</td><td>UV</td><td>E230H</td><td>STAR;G V-IV;CORONA</td><td>51806.52787029</td><td>STIS/NUV-MAMA</td><td>HST</td><td>0.439822030617359</td></tr>\n",
       "<tr><td>TIC_30016911</td><td>43.13386744</td><td>-12.76971335</td><td>1</td><td>HST</td><td>z2vq0401t</td><td>HD17925</td><td>43.133737835</td><td>-12.7697439451164</td><td>nan</td><td>nan</td><td>UV</td><td>MIRROR-N2</td><td>STAR;K V-IV;</td><td>50458.80394663</td><td>HRS</td><td>HST</td><td>0.0</td></tr>\n",
       "<tr><td>TIC_30016911</td><td>43.13386744</td><td>-12.76971335</td><td>1</td><td>HST</td><td>z2vq0403t</td><td>HD17925</td><td>43.1337356950001</td><td>-12.7697434075017</td><td>nan</td><td>nan</td><td>UV</td><td>MIRROR-N2</td><td>STAR;K V-IV;</td><td>50458.80491887</td><td>HRS</td><td>HST</td><td>0.331312065103639</td></tr>\n",
       "</table></div>"
      ],
      "text/plain": [
       "<Table length=1509>\n",
       "     TIC           RA          DEC      ... project      distance    \n",
       "    str14       float64      float64    ...   str3       float64     \n",
       "------------- ------------ ------------ ... ------- -----------------\n",
       "TIC_381949122  76.37773198 -57.47270469 ...      --               0.0\n",
       "TIC_381949122  76.37773198 -57.47270469 ...      --               0.0\n",
       "TIC_381949122  76.37773198 -57.47270469 ...      --               0.0\n",
       "TIC_381949122  76.37773198 -57.47270469 ...      --               0.0\n",
       " TIC_30293512  198.0132679  -37.8030222 ...      --               0.0\n",
       "TIC_381949122  76.37773198 -57.47270469 ...      --               0.0\n",
       "          ...          ...          ... ...     ...               ...\n",
       "TIC_422478973 199.60130828 -18.31119382 ...     HST 0.430788289240312\n",
       "TIC_422478973 199.60130828 -18.31119382 ...     HST 0.633862439315792\n",
       "TIC_343813545  49.84040134   3.37019865 ...     HST  1.41320644262458\n",
       "TIC_422478973 199.60130828 -18.31119382 ...     HST 0.430896193827602\n",
       "TIC_343813545  49.84040134   3.37019865 ...     HST 0.439822030617359\n",
       " TIC_30016911  43.13386744 -12.76971335 ...     HST               0.0\n",
       " TIC_30016911  43.13386744 -12.76971335 ...     HST 0.331312065103639"
      ]
     },
     "execution_count": 6,
     "metadata": {},
     "output_type": "execute_result"
    }
   ],
   "source": [
    "masttab = Table.read('MAST_Crossmatch_All_Observati.csv', format='csv')\n",
    "masttab"
   ]
  },
  {
   "cell_type": "code",
   "execution_count": 8,
   "id": "5b8cfad6-f4a8-4d5c-8755-392d99063d16",
   "metadata": {
    "tags": []
   },
   "outputs": [
    {
     "data": {
      "text/plain": [
       "88"
      ]
     },
     "execution_count": 8,
     "metadata": {},
     "output_type": "execute_result"
    }
   ],
   "source": [
    "tics = np.unique(masttab['TIC'])\n",
    "len(tics)"
   ]
  },
  {
   "cell_type": "markdown",
   "id": "9a9b5121-9078-4f83-9ccd-846b491b271d",
   "metadata": {},
   "source": [
    "Want - number of stars with FUV data, NUV data, both, neither."
   ]
  },
  {
   "cell_type": "code",
   "execution_count": 12,
   "id": "65a8474e-cf17-4f53-bde0-af869a7bed2f",
   "metadata": {
    "tags": []
   },
   "outputs": [
    {
     "name": "stdout",
     "output_type": "stream",
     "text": [
      "E140H\n",
      "E140M\n",
      "E230H\n",
      "E230M\n",
      "ECH-A\n",
      "ECH-B\n",
      "G130M\n",
      "G140L\n",
      "G140M\n",
      "G160M\n",
      "G225M\n",
      "G230L\n",
      "G230LB\n",
      "G230M\n",
      "G230MB\n",
      "G270M\n",
      "G285M\n",
      "G430L\n",
      "G430M\n",
      "G750L\n",
      "G750M\n",
      "HIGH DISP\n",
      "LOW DISP\n",
      "MIRROR-A2\n",
      "MIRROR-N1\n",
      "MIRROR-N2\n"
     ]
    },
    {
     "data": {
      "text/plain": [
       "[None,\n",
       " None,\n",
       " None,\n",
       " None,\n",
       " None,\n",
       " None,\n",
       " None,\n",
       " None,\n",
       " None,\n",
       " None,\n",
       " None,\n",
       " None,\n",
       " None,\n",
       " None,\n",
       " None,\n",
       " None,\n",
       " None,\n",
       " None,\n",
       " None,\n",
       " None,\n",
       " None,\n",
       " None,\n",
       " None,\n",
       " None,\n",
       " None,\n",
       " None]"
      ]
     },
     "execution_count": 12,
     "metadata": {},
     "output_type": "execute_result"
    }
   ],
   "source": [
    "[print(flt) for flt in np.unique(masttab['filters'])]"
   ]
  },
  {
   "cell_type": "code",
   "execution_count": 39,
   "id": "c4381978-d23d-4ab2-b784-63da63f1b0c1",
   "metadata": {
    "tags": []
   },
   "outputs": [
    {
     "name": "stdout",
     "output_type": "stream",
     "text": [
      "55\n",
      "72\n",
      "41\n",
      "2\n",
      "123\n"
     ]
    }
   ],
   "source": [
    "fuv = 0\n",
    "nuv = 0\n",
    "both = 0\n",
    "neither = 0\n",
    "\n",
    "nuv_gratings = ['E230H', 'E230M','G225M', 'G230L','G230LB', 'G230M', 'G230MB','G270M','G285M', 'ECH-B']\n",
    "fuv_gratings = ['E140H', 'E140M', 'G130M', 'G140L', 'G140M', 'G160M', 'ECH-A']\n",
    "\n",
    "for i, tic in enumerate(tics):\n",
    "    fuv_obs = False\n",
    "    nuv_obs = False\n",
    "    rows = masttab[np.where(masttab['TIC'] == tic)]\n",
    "    if 'SWP' in rows['instrument_name']:\n",
    "        fuv_obs = True\n",
    "    if 'LWP' in  rows['instrument_name'] or 'LWR' in rows['instrument_name']:\n",
    "        nuv_obs = True\n",
    "        \n",
    "    for grating in nuv_gratings:\n",
    "        if grating in rows['filters']:\n",
    "            nuv_obs = True\n",
    "        \n",
    "    for grating in fuv_gratings:\n",
    "        if grating in rows['filters']:\n",
    "            fuv_obs = True\n",
    "    \n",
    "    if nuv_obs:\n",
    "        nuv +=1\n",
    "    if fuv_obs:\n",
    "        fuv +=1\n",
    "    if nuv_obs and fuv_obs:\n",
    "        both += 1\n",
    "    if nuv_obs == False and fuv_obs == False:\n",
    "        neither +=1\n",
    "        # print(tic)\n",
    "        # print(rows)\n",
    "     \n",
    "        \n",
    "print(fuv)\n",
    "print(nuv)    \n",
    "print(both)\n",
    "print(neither)\n",
    "neither_all = 164 - both\n",
    "print(neither_all)"
   ]
  },
  {
   "cell_type": "code",
   "execution_count": 35,
   "id": "7aab1a08-b65e-4a9d-84e3-027cabe20eda",
   "metadata": {
    "tags": []
   },
   "outputs": [],
   "source": [
    "# for row in masttab:\n",
    "#     if row['filters'] in ['ECH-A', 'ECH-B']:\n",
    "#         print(row['instrument_name'])"
   ]
  },
  {
   "cell_type": "code",
   "execution_count": 41,
   "id": "b6cc6f2f-ef04-495b-b7e6-13eec6814ddc",
   "metadata": {
    "tags": []
   },
   "outputs": [
    {
     "data": {
      "text/plain": [
       "86"
      ]
     },
     "execution_count": 41,
     "metadata": {},
     "output_type": "execute_result"
    }
   ],
   "source": [
    "#164 total stars\n",
    "55+72-41"
   ]
  },
  {
   "cell_type": "markdown",
   "id": "c856527b-6aa2-4a86-bccc-bf41f0ae995e",
   "metadata": {},
   "source": [
    "Sort by tier"
   ]
  },
  {
   "cell_type": "code",
   "execution_count": 42,
   "id": "3432a322-8dfc-4f11-a840-01ee34a7e5ac",
   "metadata": {
    "tags": []
   },
   "outputs": [],
   "source": [
    "startab = Table.read('hwo_target_list.csv', data_start=2)"
   ]
  },
  {
   "cell_type": "code",
   "execution_count": 51,
   "id": "d7e0223a-65ae-4d96-804f-34f3692841c7",
   "metadata": {
    "tags": []
   },
   "outputs": [
    {
     "name": "stdout",
     "output_type": "stream",
     "text": [
      "A\n",
      "14\n",
      "19\n",
      "9\n",
      "0\n",
      "155\n",
      "B\n",
      "19\n",
      "26\n",
      "17\n",
      "0\n",
      "147\n",
      "C\n",
      "22\n",
      "27\n",
      "15\n",
      "2\n",
      "149\n"
     ]
    }
   ],
   "source": [
    "nuv_gratings = ['E230H', 'E230M','G225M', 'G230L','G230LB', 'G230M', 'G230MB','G270M','G285M', 'ECH-B']\n",
    "fuv_gratings = ['E140H', 'E140M', 'G130M', 'G140L', 'G140M', 'G160M', 'ECH-A']\n",
    "\n",
    "groups = ['A', 'B', 'C']\n",
    "for group in groups:\n",
    "    print(group)\n",
    "    fuv = 0\n",
    "    nuv = 0\n",
    "    both = 0\n",
    "    neither = 0\n",
    "    for i, tic in enumerate(tics):\n",
    "        starrow = startab[np.where(startab['TIC#'] ==tic)[0][0]]\n",
    "        if starrow['groupflag'] == group:\n",
    "            fuv_obs = False\n",
    "            nuv_obs = False\n",
    "            rows = masttab[np.where(masttab['TIC'] == tic)]\n",
    "            if 'SWP' in rows['instrument_name']:\n",
    "                fuv_obs = True\n",
    "            if 'LWP' in  rows['instrument_name'] or 'LWR' in rows['instrument_name']:\n",
    "                nuv_obs = True\n",
    "\n",
    "            for grating in nuv_gratings:\n",
    "                if grating in rows['filters']:\n",
    "                    nuv_obs = True\n",
    "\n",
    "            for grating in fuv_gratings:\n",
    "                if grating in rows['filters']:\n",
    "                    fuv_obs = True\n",
    "\n",
    "            if nuv_obs:\n",
    "                nuv +=1\n",
    "            if fuv_obs:\n",
    "                fuv +=1\n",
    "            if nuv_obs and fuv_obs:\n",
    "                both += 1\n",
    "            if nuv_obs == False and fuv_obs == False:\n",
    "                neither +=1\n",
    "                # print(tic)\n",
    "                # print(rows)\n",
    "\n",
    "\n",
    "    print(fuv)\n",
    "    print(nuv)    \n",
    "    print(both)\n",
    "    print(neither)\n",
    "    neither_all = 164 - both\n",
    "    print(neither_all)\n",
    "\n",
    "\n",
    "    \n",
    "    # print(tic, starrow['groupflag'])"
   ]
  },
  {
   "cell_type": "code",
   "execution_count": 61,
   "id": "2bebc9c5-e203-44a0-90d0-bd1e49055ba0",
   "metadata": {
    "tags": []
   },
   "outputs": [
    {
     "name": "stdout",
     "output_type": "stream",
     "text": [
      "A\n",
      "23\n",
      "B\n",
      "23\n",
      "C\n",
      "30\n"
     ]
    }
   ],
   "source": [
    "for group in groups:\n",
    "    print(group)\n",
    "    n = 0\n",
    "    for starrow in startab:\n",
    "        if starrow['groupflag'] == group and starrow['TIC#'] not in tics:\n",
    "            n += 1\n",
    "    print (n)"
   ]
  },
  {
   "cell_type": "code",
   "execution_count": 55,
   "id": "1fba86c6-0b77-4b72-ab4a-030eab8b06ac",
   "metadata": {
    "tags": []
   },
   "outputs": [
    {
     "data": {
      "text/plain": [
       "78"
      ]
     },
     "execution_count": 55,
     "metadata": {},
     "output_type": "execute_result"
    }
   ],
   "source": [
    "23+23+32"
   ]
  },
  {
   "cell_type": "code",
   "execution_count": 59,
   "id": "9a468f6c-561d-45bd-add7-194a1f26cb50",
   "metadata": {
    "tags": []
   },
   "outputs": [
    {
     "name": "stdout",
     "output_type": "stream",
     "text": [
      "76\n"
     ]
    }
   ],
   "source": [
    "n = 0\n",
    "for starrow in startab:\n",
    "    if starrow['TIC#'] not in tics:\n",
    "        n += 1\n",
    "print (n)"
   ]
  },
  {
   "cell_type": "code",
   "execution_count": 60,
   "id": "b1ceed02-359a-49aa-808b-46b7326b1b76",
   "metadata": {
    "tags": []
   },
   "outputs": [
    {
     "data": {
      "text/plain": [
       "76"
      ]
     },
     "execution_count": 60,
     "metadata": {},
     "output_type": "execute_result"
    }
   ],
   "source": [
    "164 - len(tics)"
   ]
  },
  {
   "cell_type": "code",
   "execution_count": 63,
   "id": "8ddc1395-93a3-4915-ae52-8b7455f861d5",
   "metadata": {
    "tags": []
   },
   "outputs": [
    {
     "data": {
      "text/plain": [
       "78"
      ]
     },
     "execution_count": 63,
     "metadata": {},
     "output_type": "execute_result"
    }
   ],
   "source": [
    "164 - (55 + 72 - 41)"
   ]
  },
  {
   "cell_type": "code",
   "execution_count": 64,
   "id": "04925ea0-c413-414f-8b74-a190c85b6a64",
   "metadata": {
    "tags": []
   },
   "outputs": [
    {
     "data": {
      "text/latex": [
       "$-2379.3052 \\; \\mathrm{\\frac{km}{s}}$"
      ],
      "text/plain": [
       "<Quantity -2379.30522222 km / s>"
      ]
     },
     "execution_count": 64,
     "metadata": {},
     "output_type": "execute_result"
    }
   ],
   "source": [
    "obs_lam = 125*u.AA\n",
    "rest_lam = 126*u.AA\n",
    "dv = obs_lam.to(u.km/u.s,  equivalencies=u.doppler_optical(rest_lam))\n",
    "dv"
   ]
  },
  {
   "cell_type": "code",
   "execution_count": 65,
   "id": "0a2b9546-8e5f-4b7f-886b-5e7d005ec4d1",
   "metadata": {
    "tags": []
   },
   "outputs": [
    {
     "data": {
      "text/latex": [
       "$125 \\; \\mathrm{\\mathring{A}}$"
      ],
      "text/plain": [
       "<Quantity 125. Angstrom>"
      ]
     },
     "execution_count": 65,
     "metadata": {},
     "output_type": "execute_result"
    }
   ],
   "source": [
    "obs_lam = dv.to(u.AA,  equivalencies=u.doppler_optical(rest_lam))"
   ]
  },
  {
   "cell_type": "code",
   "execution_count": 67,
   "id": "40d317dc-4a7f-4fef-9905-07b1808947fb",
   "metadata": {
    "tags": []
   },
   "outputs": [
    {
     "data": {
      "text/plain": [
       "('TIC',\n",
       " 'RA',\n",
       " 'DEC',\n",
       " 'calib_level',\n",
       " 'obs_collection',\n",
       " 'obs_id',\n",
       " 'target_name',\n",
       " 's_ra',\n",
       " 's_dec',\n",
       " 't_min',\n",
       " 't_exptime',\n",
       " 'wavelength_region',\n",
       " 'filters',\n",
       " 'target_classification',\n",
       " 't_obs_release',\n",
       " 'instrument_name',\n",
       " 'project',\n",
       " 'distance')"
      ]
     },
     "execution_count": 67,
     "metadata": {},
     "output_type": "execute_result"
    }
   ],
   "source": [
    "masttab.dtype.names"
   ]
  },
  {
   "cell_type": "code",
   "execution_count": 68,
   "id": "1a695a31-84ed-49cb-a9bd-28e8e11ca6cd",
   "metadata": {
    "tags": []
   },
   "outputs": [
    {
     "name": "stdout",
     "output_type": "stream",
     "text": [
      "A\n",
      "7\n",
      "B\n",
      "12\n",
      "C\n",
      "5\n"
     ]
    }
   ],
   "source": [
    "lya_gratings = ['E140H', 'E140M', 'G130M', 'G140L', 'G140M', 'G160M', 'ECH-A']\n",
    "\n",
    "groups = ['A', 'B', 'C']\n",
    "for group in groups:\n",
    "    print(group)\n",
    "    fuv = 0\n",
    "    # nuv = 0\n",
    "    both = 0\n",
    "    neither = 0\n",
    "    for i, tic in enumerate(tics):\n",
    "        starrow = startab[np.where(startab['TIC#'] ==tic)[0][0]]\n",
    "        if starrow['groupflag'] == group:\n",
    "            fuv_obs = False\n",
    "            # nuv_obs = False\n",
    "            rows = masttab[np.where(masttab['TIC'] == tic)]\n",
    "            # if 'SWP' in rows['instrument_name']:\n",
    "            #     fuv_obs = True\n",
    "            # if 'LWP' in  rows['instrument_name'] or 'LWR' in rows['instrument_name']:\n",
    "            #     nuv_obs = True\n",
    "\n",
    "#             for grating in nuv_gratings:\n",
    "#                 if grating in rows['filters']:\n",
    "#                     nuv_obs = True\n",
    "\n",
    "            for grating in lya_gratings:\n",
    "                if grating in rows['filters']:\n",
    "                    fuv_obs = True\n",
    "\n",
    "            # if nuv_obs:\n",
    "            #     nuv +=1\n",
    "            if fuv_obs:\n",
    "                fuv +=1\n",
    "            # if nuv_obs and fuv_obs:\n",
    "            #     both += 1\n",
    "            # if nuv_obs == False and fuv_obs == False:\n",
    "            #     neither +=1\n",
    "            #     # print(tic)\n",
    "                # print(rows)\n",
    "\n",
    "\n",
    "    print(fuv)\n",
    "    # print(nuv)    \n",
    "    # print(both)\n",
    "    # print(neither)\n",
    "    # neither_all = 164 - both\n",
    "    # print(neither_all)\n"
   ]
  },
  {
   "cell_type": "code",
   "execution_count": 71,
   "id": "f823aa81-7376-4e50-b0e0-71fc7fba60cc",
   "metadata": {
    "tags": []
   },
   "outputs": [
    {
     "name": "stdout",
     "output_type": "stream",
     "text": [
      "A\n",
      "TIC_157364190\n",
      "TIC_343813545\n",
      "TIC_350673608\n",
      "TIC_38511251\n",
      "TIC_399665349\n",
      "TIC_67772871\n",
      "6\n",
      "B\n",
      "TIC_1101124558\n",
      "TIC_1101124558\n",
      "TIC_1674663309\n",
      "TIC_238432056\n",
      "TIC_30016911\n",
      "TIC_311063391\n",
      "TIC_381949122\n",
      "TIC_417762326\n",
      "TIC_419015728\n",
      "TIC_422478973\n",
      "9\n",
      "C\n",
      "TIC_1101124559\n",
      "TIC_118572803\n",
      "TIC_329574145\n",
      "TIC_332064670\n",
      "4\n"
     ]
    }
   ],
   "source": [
    "# lya_gratings = ['E140H', 'E140M', 'G130M', 'G140L', 'G140M', 'G160M', 'ECH-A']\n",
    "lya_gratings = ['E140M', 'G140M']\n",
    "\n",
    "groups = ['A', 'B', 'C']\n",
    "for group in groups:\n",
    "    print(group)\n",
    "    fuv = 0\n",
    "    # nuv = 0\n",
    "    both = 0\n",
    "    neither = 0\n",
    "    for i, tic in enumerate(tics):\n",
    "        starrow = startab[np.where(startab['TIC#'] ==tic)[0][0]]\n",
    "        if starrow['groupflag'] == group:\n",
    "            fuv_obs = False\n",
    "            # nuv_obs = False\n",
    "            rows = masttab[np.where(masttab['TIC'] == tic)]\n",
    "            # if 'SWP' in rows['instrument_name']:\n",
    "            #     fuv_obs = True\n",
    "            # if 'LWP' in  rows['instrument_name'] or 'LWR' in rows['instrument_name']:\n",
    "            #     nuv_obs = True\n",
    "\n",
    "#             for grating in nuv_gratings:\n",
    "#                 if grating in rows['filters']:\n",
    "#                     nuv_obs = True\n",
    "\n",
    "            for grating in lya_gratings:\n",
    "                if grating in rows['filters']:\n",
    "                    print(tic)\n",
    "                    fuv_obs = True\n",
    "\n",
    "            # if nuv_obs:\n",
    "            #     nuv +=1\n",
    "            if fuv_obs:\n",
    "                fuv +=1\n",
    "            # if nuv_obs and fuv_obs:\n",
    "            #     both += 1\n",
    "            # if nuv_obs == False and fuv_obs == False:\n",
    "            #     neither +=1\n",
    "            #     # print(tic)\n",
    "                # print(rows)\n",
    "\n",
    "\n",
    "    print(fuv)\n",
    "    # print(nuv)    \n",
    "    # print(both)\n",
    "    # print(neither)\n",
    "    # neither_all = 164 - both\n",
    "    # print(neither_all)\n"
   ]
  },
  {
   "cell_type": "code",
   "execution_count": null,
   "id": "7b9fa612-4d5d-4aa8-a0a2-901d431f1bcc",
   "metadata": {},
   "outputs": [],
   "source": []
  }
 ],
 "metadata": {
  "kernelspec": {
   "display_name": "Python 3 (ipykernel)",
   "language": "python",
   "name": "python3"
  },
  "language_info": {
   "codemirror_mode": {
    "name": "ipython",
    "version": 3
   },
   "file_extension": ".py",
   "mimetype": "text/x-python",
   "name": "python",
   "nbconvert_exporter": "python",
   "pygments_lexer": "ipython3",
   "version": "3.10.6"
  }
 },
 "nbformat": 4,
 "nbformat_minor": 5
}
